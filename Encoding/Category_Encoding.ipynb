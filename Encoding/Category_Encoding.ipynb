{
  "nbformat": 4,
  "nbformat_minor": 0,
  "metadata": {
    "colab": {
      "name": "Category_Encoding.ipynb",
      "provenance": [],
      "collapsed_sections": []
    },
    "kernelspec": {
      "name": "python3",
      "display_name": "Python 3"
    }
  },
  "cells": [
    {
      "cell_type": "markdown",
      "metadata": {
        "id": "5MaBHs33qMVj"
      },
      "source": [
        "https://towardsdatascience.com/all-about-categorical-variable-encoding-305f3361fd02\n"
      ]
    },
    {
      "cell_type": "code",
      "metadata": {
        "id": "ceEHBwLGF9si"
      },
      "source": [
        "import pandas as pd\n",
        "import numpy as np\n",
        "data ={'Temperature':['Hot','Cold','Very hot','Warm','Hot','Warm','Warm','Hot','Hot','Cold'],\n",
        "       'Color':['Red','Yellow','Blue','Blue','Red','Yellow','red','Yellow','Yellow','Yellow'],\n",
        "       'Target':[1,1,1,0,1,0,1,0,1,1]}\n",
        "df = pd.DataFrame(data,columns = ['Temperature','Color','Target'])"
      ],
      "execution_count": null,
      "outputs": []
    },
    {
      "cell_type": "code",
      "metadata": {
        "id": "6_97ncsMHPLN",
        "colab": {
          "base_uri": "https://localhost:8080/",
          "height": 359
        },
        "outputId": "7172d7da-6f3f-40cf-db96-d753a7d8b68f"
      },
      "source": [
        "df"
      ],
      "execution_count": null,
      "outputs": [
        {
          "output_type": "execute_result",
          "data": {
            "text/html": [
              "<div>\n",
              "<style scoped>\n",
              "    .dataframe tbody tr th:only-of-type {\n",
              "        vertical-align: middle;\n",
              "    }\n",
              "\n",
              "    .dataframe tbody tr th {\n",
              "        vertical-align: top;\n",
              "    }\n",
              "\n",
              "    .dataframe thead th {\n",
              "        text-align: right;\n",
              "    }\n",
              "</style>\n",
              "<table border=\"1\" class=\"dataframe\">\n",
              "  <thead>\n",
              "    <tr style=\"text-align: right;\">\n",
              "      <th></th>\n",
              "      <th>Temperature</th>\n",
              "      <th>Color</th>\n",
              "      <th>Target</th>\n",
              "    </tr>\n",
              "  </thead>\n",
              "  <tbody>\n",
              "    <tr>\n",
              "      <th>0</th>\n",
              "      <td>Hot</td>\n",
              "      <td>Red</td>\n",
              "      <td>1</td>\n",
              "    </tr>\n",
              "    <tr>\n",
              "      <th>1</th>\n",
              "      <td>Cold</td>\n",
              "      <td>Yellow</td>\n",
              "      <td>1</td>\n",
              "    </tr>\n",
              "    <tr>\n",
              "      <th>2</th>\n",
              "      <td>Very hot</td>\n",
              "      <td>Blue</td>\n",
              "      <td>1</td>\n",
              "    </tr>\n",
              "    <tr>\n",
              "      <th>3</th>\n",
              "      <td>Warm</td>\n",
              "      <td>Blue</td>\n",
              "      <td>0</td>\n",
              "    </tr>\n",
              "    <tr>\n",
              "      <th>4</th>\n",
              "      <td>Hot</td>\n",
              "      <td>Red</td>\n",
              "      <td>1</td>\n",
              "    </tr>\n",
              "    <tr>\n",
              "      <th>5</th>\n",
              "      <td>Warm</td>\n",
              "      <td>Yellow</td>\n",
              "      <td>0</td>\n",
              "    </tr>\n",
              "    <tr>\n",
              "      <th>6</th>\n",
              "      <td>Warm</td>\n",
              "      <td>red</td>\n",
              "      <td>1</td>\n",
              "    </tr>\n",
              "    <tr>\n",
              "      <th>7</th>\n",
              "      <td>Hot</td>\n",
              "      <td>Yellow</td>\n",
              "      <td>0</td>\n",
              "    </tr>\n",
              "    <tr>\n",
              "      <th>8</th>\n",
              "      <td>Hot</td>\n",
              "      <td>Yellow</td>\n",
              "      <td>1</td>\n",
              "    </tr>\n",
              "    <tr>\n",
              "      <th>9</th>\n",
              "      <td>Cold</td>\n",
              "      <td>Yellow</td>\n",
              "      <td>1</td>\n",
              "    </tr>\n",
              "  </tbody>\n",
              "</table>\n",
              "</div>"
            ],
            "text/plain": [
              "  Temperature   Color  Target\n",
              "0         Hot     Red       1\n",
              "1        Cold  Yellow       1\n",
              "2    Very hot    Blue       1\n",
              "3        Warm    Blue       0\n",
              "4         Hot     Red       1\n",
              "5        Warm  Yellow       0\n",
              "6        Warm     red       1\n",
              "7         Hot  Yellow       0\n",
              "8         Hot  Yellow       1\n",
              "9        Cold  Yellow       1"
            ]
          },
          "metadata": {
            "tags": []
          },
          "execution_count": 22
        }
      ]
    },
    {
      "cell_type": "markdown",
      "metadata": {
        "id": "EaPAtsXUHuL_"
      },
      "source": [
        "### One Hot Encoding : Pandas - get_dummies // SkLearn - OneHotEncoder"
      ]
    },
    {
      "cell_type": "code",
      "metadata": {
        "id": "BZXx6ZjyHp0T"
      },
      "source": [
        "df_he=df.copy()"
      ],
      "execution_count": null,
      "outputs": []
    },
    {
      "cell_type": "code",
      "metadata": {
        "id": "Mu81O-R-H-Pf",
        "colab": {
          "base_uri": "https://localhost:8080/",
          "height": 359
        },
        "outputId": "623b60eb-1821-45a1-c01b-348c99cca6cf"
      },
      "source": [
        "df_hec=pd.get_dummies(df_he,prefix=['Temp'],columns=['Temperature'])\n",
        "df_hec"
      ],
      "execution_count": null,
      "outputs": [
        {
          "output_type": "execute_result",
          "data": {
            "text/html": [
              "<div>\n",
              "<style scoped>\n",
              "    .dataframe tbody tr th:only-of-type {\n",
              "        vertical-align: middle;\n",
              "    }\n",
              "\n",
              "    .dataframe tbody tr th {\n",
              "        vertical-align: top;\n",
              "    }\n",
              "\n",
              "    .dataframe thead th {\n",
              "        text-align: right;\n",
              "    }\n",
              "</style>\n",
              "<table border=\"1\" class=\"dataframe\">\n",
              "  <thead>\n",
              "    <tr style=\"text-align: right;\">\n",
              "      <th></th>\n",
              "      <th>Color</th>\n",
              "      <th>Target</th>\n",
              "      <th>Temp_Cold</th>\n",
              "      <th>Temp_Hot</th>\n",
              "      <th>Temp_Very hot</th>\n",
              "      <th>Temp_Warm</th>\n",
              "    </tr>\n",
              "  </thead>\n",
              "  <tbody>\n",
              "    <tr>\n",
              "      <th>0</th>\n",
              "      <td>Red</td>\n",
              "      <td>1</td>\n",
              "      <td>0</td>\n",
              "      <td>1</td>\n",
              "      <td>0</td>\n",
              "      <td>0</td>\n",
              "    </tr>\n",
              "    <tr>\n",
              "      <th>1</th>\n",
              "      <td>Yellow</td>\n",
              "      <td>1</td>\n",
              "      <td>1</td>\n",
              "      <td>0</td>\n",
              "      <td>0</td>\n",
              "      <td>0</td>\n",
              "    </tr>\n",
              "    <tr>\n",
              "      <th>2</th>\n",
              "      <td>Blue</td>\n",
              "      <td>1</td>\n",
              "      <td>0</td>\n",
              "      <td>0</td>\n",
              "      <td>1</td>\n",
              "      <td>0</td>\n",
              "    </tr>\n",
              "    <tr>\n",
              "      <th>3</th>\n",
              "      <td>Blue</td>\n",
              "      <td>0</td>\n",
              "      <td>0</td>\n",
              "      <td>0</td>\n",
              "      <td>0</td>\n",
              "      <td>1</td>\n",
              "    </tr>\n",
              "    <tr>\n",
              "      <th>4</th>\n",
              "      <td>Red</td>\n",
              "      <td>1</td>\n",
              "      <td>0</td>\n",
              "      <td>1</td>\n",
              "      <td>0</td>\n",
              "      <td>0</td>\n",
              "    </tr>\n",
              "    <tr>\n",
              "      <th>5</th>\n",
              "      <td>Yellow</td>\n",
              "      <td>0</td>\n",
              "      <td>0</td>\n",
              "      <td>0</td>\n",
              "      <td>0</td>\n",
              "      <td>1</td>\n",
              "    </tr>\n",
              "    <tr>\n",
              "      <th>6</th>\n",
              "      <td>red</td>\n",
              "      <td>1</td>\n",
              "      <td>0</td>\n",
              "      <td>0</td>\n",
              "      <td>0</td>\n",
              "      <td>1</td>\n",
              "    </tr>\n",
              "    <tr>\n",
              "      <th>7</th>\n",
              "      <td>Yellow</td>\n",
              "      <td>0</td>\n",
              "      <td>0</td>\n",
              "      <td>1</td>\n",
              "      <td>0</td>\n",
              "      <td>0</td>\n",
              "    </tr>\n",
              "    <tr>\n",
              "      <th>8</th>\n",
              "      <td>Yellow</td>\n",
              "      <td>1</td>\n",
              "      <td>0</td>\n",
              "      <td>1</td>\n",
              "      <td>0</td>\n",
              "      <td>0</td>\n",
              "    </tr>\n",
              "    <tr>\n",
              "      <th>9</th>\n",
              "      <td>Yellow</td>\n",
              "      <td>1</td>\n",
              "      <td>1</td>\n",
              "      <td>0</td>\n",
              "      <td>0</td>\n",
              "      <td>0</td>\n",
              "    </tr>\n",
              "  </tbody>\n",
              "</table>\n",
              "</div>"
            ],
            "text/plain": [
              "    Color  Target  Temp_Cold  Temp_Hot  Temp_Very hot  Temp_Warm\n",
              "0     Red       1          0         1              0          0\n",
              "1  Yellow       1          1         0              0          0\n",
              "2    Blue       1          0         0              1          0\n",
              "3    Blue       0          0         0              0          1\n",
              "4     Red       1          0         1              0          0\n",
              "5  Yellow       0          0         0              0          1\n",
              "6     red       1          0         0              0          1\n",
              "7  Yellow       0          0         1              0          0\n",
              "8  Yellow       1          0         1              0          0\n",
              "9  Yellow       1          1         0              0          0"
            ]
          },
          "metadata": {
            "tags": []
          },
          "execution_count": 24
        }
      ]
    },
    {
      "cell_type": "code",
      "metadata": {
        "id": "Yu16ntkCH-VP",
        "colab": {
          "base_uri": "https://localhost:8080/",
          "height": 359
        },
        "outputId": "8089c28d-b49d-48f4-c03c-e86bdb7691de"
      },
      "source": [
        "from sklearn.preprocessing import OneHotEncoder\n",
        "ohc = OneHotEncoder()\n",
        "ohe = ohc.fit_transform(df_he.Temperature.values.reshape(-1, 1)).toarray()\n",
        "dfOneHot = pd.DataFrame(ohe,columns = [\"Temp_\"+str(ohc.categories_[0][i]) for i in range(len(ohc.categories_[0]))])\n",
        "dfh = pd.concat([df_he,dfOneHot],axis =1)\n",
        "dfh"
      ],
      "execution_count": null,
      "outputs": [
        {
          "output_type": "execute_result",
          "data": {
            "text/html": [
              "<div>\n",
              "<style scoped>\n",
              "    .dataframe tbody tr th:only-of-type {\n",
              "        vertical-align: middle;\n",
              "    }\n",
              "\n",
              "    .dataframe tbody tr th {\n",
              "        vertical-align: top;\n",
              "    }\n",
              "\n",
              "    .dataframe thead th {\n",
              "        text-align: right;\n",
              "    }\n",
              "</style>\n",
              "<table border=\"1\" class=\"dataframe\">\n",
              "  <thead>\n",
              "    <tr style=\"text-align: right;\">\n",
              "      <th></th>\n",
              "      <th>Temperature</th>\n",
              "      <th>Color</th>\n",
              "      <th>Target</th>\n",
              "      <th>Temp_Cold</th>\n",
              "      <th>Temp_Hot</th>\n",
              "      <th>Temp_Very hot</th>\n",
              "      <th>Temp_Warm</th>\n",
              "    </tr>\n",
              "  </thead>\n",
              "  <tbody>\n",
              "    <tr>\n",
              "      <th>0</th>\n",
              "      <td>Hot</td>\n",
              "      <td>Red</td>\n",
              "      <td>1</td>\n",
              "      <td>0.0</td>\n",
              "      <td>1.0</td>\n",
              "      <td>0.0</td>\n",
              "      <td>0.0</td>\n",
              "    </tr>\n",
              "    <tr>\n",
              "      <th>1</th>\n",
              "      <td>Cold</td>\n",
              "      <td>Yellow</td>\n",
              "      <td>1</td>\n",
              "      <td>1.0</td>\n",
              "      <td>0.0</td>\n",
              "      <td>0.0</td>\n",
              "      <td>0.0</td>\n",
              "    </tr>\n",
              "    <tr>\n",
              "      <th>2</th>\n",
              "      <td>Very hot</td>\n",
              "      <td>Blue</td>\n",
              "      <td>1</td>\n",
              "      <td>0.0</td>\n",
              "      <td>0.0</td>\n",
              "      <td>1.0</td>\n",
              "      <td>0.0</td>\n",
              "    </tr>\n",
              "    <tr>\n",
              "      <th>3</th>\n",
              "      <td>Warm</td>\n",
              "      <td>Blue</td>\n",
              "      <td>0</td>\n",
              "      <td>0.0</td>\n",
              "      <td>0.0</td>\n",
              "      <td>0.0</td>\n",
              "      <td>1.0</td>\n",
              "    </tr>\n",
              "    <tr>\n",
              "      <th>4</th>\n",
              "      <td>Hot</td>\n",
              "      <td>Red</td>\n",
              "      <td>1</td>\n",
              "      <td>0.0</td>\n",
              "      <td>1.0</td>\n",
              "      <td>0.0</td>\n",
              "      <td>0.0</td>\n",
              "    </tr>\n",
              "    <tr>\n",
              "      <th>5</th>\n",
              "      <td>Warm</td>\n",
              "      <td>Yellow</td>\n",
              "      <td>0</td>\n",
              "      <td>0.0</td>\n",
              "      <td>0.0</td>\n",
              "      <td>0.0</td>\n",
              "      <td>1.0</td>\n",
              "    </tr>\n",
              "    <tr>\n",
              "      <th>6</th>\n",
              "      <td>Warm</td>\n",
              "      <td>red</td>\n",
              "      <td>1</td>\n",
              "      <td>0.0</td>\n",
              "      <td>0.0</td>\n",
              "      <td>0.0</td>\n",
              "      <td>1.0</td>\n",
              "    </tr>\n",
              "    <tr>\n",
              "      <th>7</th>\n",
              "      <td>Hot</td>\n",
              "      <td>Yellow</td>\n",
              "      <td>0</td>\n",
              "      <td>0.0</td>\n",
              "      <td>1.0</td>\n",
              "      <td>0.0</td>\n",
              "      <td>0.0</td>\n",
              "    </tr>\n",
              "    <tr>\n",
              "      <th>8</th>\n",
              "      <td>Hot</td>\n",
              "      <td>Yellow</td>\n",
              "      <td>1</td>\n",
              "      <td>0.0</td>\n",
              "      <td>1.0</td>\n",
              "      <td>0.0</td>\n",
              "      <td>0.0</td>\n",
              "    </tr>\n",
              "    <tr>\n",
              "      <th>9</th>\n",
              "      <td>Cold</td>\n",
              "      <td>Yellow</td>\n",
              "      <td>1</td>\n",
              "      <td>1.0</td>\n",
              "      <td>0.0</td>\n",
              "      <td>0.0</td>\n",
              "      <td>0.0</td>\n",
              "    </tr>\n",
              "  </tbody>\n",
              "</table>\n",
              "</div>"
            ],
            "text/plain": [
              "  Temperature   Color  Target  Temp_Cold  Temp_Hot  Temp_Very hot  Temp_Warm\n",
              "0         Hot     Red       1        0.0       1.0            0.0        0.0\n",
              "1        Cold  Yellow       1        1.0       0.0            0.0        0.0\n",
              "2    Very hot    Blue       1        0.0       0.0            1.0        0.0\n",
              "3        Warm    Blue       0        0.0       0.0            0.0        1.0\n",
              "4         Hot     Red       1        0.0       1.0            0.0        0.0\n",
              "5        Warm  Yellow       0        0.0       0.0            0.0        1.0\n",
              "6        Warm     red       1        0.0       0.0            0.0        1.0\n",
              "7         Hot  Yellow       0        0.0       1.0            0.0        0.0\n",
              "8         Hot  Yellow       1        0.0       1.0            0.0        0.0\n",
              "9        Cold  Yellow       1        1.0       0.0            0.0        0.0"
            ]
          },
          "metadata": {
            "tags": []
          },
          "execution_count": 38
        }
      ]
    },
    {
      "cell_type": "code",
      "metadata": {
        "id": "eJozIoaZH-X_",
        "colab": {
          "base_uri": "https://localhost:8080/",
          "height": 35
        },
        "outputId": "3d1d9d60-a4bd-4a03-bdae-e90221562032"
      },
      "source": [
        "ohc.categories_[0][0]"
      ],
      "execution_count": null,
      "outputs": [
        {
          "output_type": "execute_result",
          "data": {
            "application/vnd.google.colaboratory.intrinsic+json": {
              "type": "string"
            },
            "text/plain": [
              "'Cold'"
            ]
          },
          "metadata": {
            "tags": []
          },
          "execution_count": 39
        }
      ]
    },
    {
      "cell_type": "markdown",
      "metadata": {
        "id": "JebTcWNUM1Tu"
      },
      "source": [
        "- Usually, for Regression, we use N-1 (drop first or last column of One Hot Coded new feature ), but for classification, the recommendation is to use all N columns without as most of the tree-based algorithm builds a tree based on all available variables.\n",
        "- In tree-based methods, we will never consider that additional label if we drop. Thus, if we use the categorical variables in a tree-based learning algorithm, it is good practice to encode it into N binary variables and don’t drop."
      ]
    },
    {
      "cell_type": "markdown",
      "metadata": {
        "id": "US8oiD-HM7X6"
      },
      "source": [
        "### Label Encoder : Pandas - factorize // SkLearn - LabelEncoder"
      ]
    },
    {
      "cell_type": "code",
      "metadata": {
        "id": "thXrQWH5MM_X"
      },
      "source": [
        "df_le=df.copy()"
      ],
      "execution_count": null,
      "outputs": []
    },
    {
      "cell_type": "code",
      "metadata": {
        "id": "ylmtiER-MNGk",
        "colab": {
          "base_uri": "https://localhost:8080/",
          "height": 359
        },
        "outputId": "a08090c9-6a19-4256-faaa-afe434592b27"
      },
      "source": [
        "df_le.loc[:,'Temp_factorize_encode'] = pd.factorize(df_le['Temperature'])[0].reshape(-1,1)\n",
        "df_le"
      ],
      "execution_count": null,
      "outputs": [
        {
          "output_type": "execute_result",
          "data": {
            "text/html": [
              "<div>\n",
              "<style scoped>\n",
              "    .dataframe tbody tr th:only-of-type {\n",
              "        vertical-align: middle;\n",
              "    }\n",
              "\n",
              "    .dataframe tbody tr th {\n",
              "        vertical-align: top;\n",
              "    }\n",
              "\n",
              "    .dataframe thead th {\n",
              "        text-align: right;\n",
              "    }\n",
              "</style>\n",
              "<table border=\"1\" class=\"dataframe\">\n",
              "  <thead>\n",
              "    <tr style=\"text-align: right;\">\n",
              "      <th></th>\n",
              "      <th>Temperature</th>\n",
              "      <th>Color</th>\n",
              "      <th>Target</th>\n",
              "      <th>Temp_factorize_encode</th>\n",
              "    </tr>\n",
              "  </thead>\n",
              "  <tbody>\n",
              "    <tr>\n",
              "      <th>0</th>\n",
              "      <td>Hot</td>\n",
              "      <td>Red</td>\n",
              "      <td>1</td>\n",
              "      <td>0</td>\n",
              "    </tr>\n",
              "    <tr>\n",
              "      <th>1</th>\n",
              "      <td>Cold</td>\n",
              "      <td>Yellow</td>\n",
              "      <td>1</td>\n",
              "      <td>1</td>\n",
              "    </tr>\n",
              "    <tr>\n",
              "      <th>2</th>\n",
              "      <td>Very hot</td>\n",
              "      <td>Blue</td>\n",
              "      <td>1</td>\n",
              "      <td>2</td>\n",
              "    </tr>\n",
              "    <tr>\n",
              "      <th>3</th>\n",
              "      <td>Warm</td>\n",
              "      <td>Blue</td>\n",
              "      <td>0</td>\n",
              "      <td>3</td>\n",
              "    </tr>\n",
              "    <tr>\n",
              "      <th>4</th>\n",
              "      <td>Hot</td>\n",
              "      <td>Red</td>\n",
              "      <td>1</td>\n",
              "      <td>0</td>\n",
              "    </tr>\n",
              "    <tr>\n",
              "      <th>5</th>\n",
              "      <td>Warm</td>\n",
              "      <td>Yellow</td>\n",
              "      <td>0</td>\n",
              "      <td>3</td>\n",
              "    </tr>\n",
              "    <tr>\n",
              "      <th>6</th>\n",
              "      <td>Warm</td>\n",
              "      <td>red</td>\n",
              "      <td>1</td>\n",
              "      <td>3</td>\n",
              "    </tr>\n",
              "    <tr>\n",
              "      <th>7</th>\n",
              "      <td>Hot</td>\n",
              "      <td>Yellow</td>\n",
              "      <td>0</td>\n",
              "      <td>0</td>\n",
              "    </tr>\n",
              "    <tr>\n",
              "      <th>8</th>\n",
              "      <td>Hot</td>\n",
              "      <td>Yellow</td>\n",
              "      <td>1</td>\n",
              "      <td>0</td>\n",
              "    </tr>\n",
              "    <tr>\n",
              "      <th>9</th>\n",
              "      <td>Cold</td>\n",
              "      <td>Yellow</td>\n",
              "      <td>1</td>\n",
              "      <td>1</td>\n",
              "    </tr>\n",
              "  </tbody>\n",
              "</table>\n",
              "</div>"
            ],
            "text/plain": [
              "  Temperature   Color  Target  Temp_factorize_encode\n",
              "0         Hot     Red       1                      0\n",
              "1        Cold  Yellow       1                      1\n",
              "2    Very hot    Blue       1                      2\n",
              "3        Warm    Blue       0                      3\n",
              "4         Hot     Red       1                      0\n",
              "5        Warm  Yellow       0                      3\n",
              "6        Warm     red       1                      3\n",
              "7         Hot  Yellow       0                      0\n",
              "8         Hot  Yellow       1                      0\n",
              "9        Cold  Yellow       1                      1"
            ]
          },
          "metadata": {
            "tags": []
          },
          "execution_count": 41
        }
      ]
    },
    {
      "cell_type": "code",
      "metadata": {
        "id": "66PrYSF1MNJk"
      },
      "source": [
        "df_les=df.copy()"
      ],
      "execution_count": null,
      "outputs": []
    },
    {
      "cell_type": "code",
      "metadata": {
        "id": "12wSQVeeMNM6",
        "colab": {
          "base_uri": "https://localhost:8080/",
          "height": 359
        },
        "outputId": "d62607fb-7cf3-4246-958a-ddc85d9cf8d9"
      },
      "source": [
        "from sklearn.preprocessing import LabelEncoder\n",
        "df_les['Temp_label_encoded']= LabelEncoder().fit_transform(df_les.Temperature)\n",
        "df_les"
      ],
      "execution_count": null,
      "outputs": [
        {
          "output_type": "execute_result",
          "data": {
            "text/html": [
              "<div>\n",
              "<style scoped>\n",
              "    .dataframe tbody tr th:only-of-type {\n",
              "        vertical-align: middle;\n",
              "    }\n",
              "\n",
              "    .dataframe tbody tr th {\n",
              "        vertical-align: top;\n",
              "    }\n",
              "\n",
              "    .dataframe thead th {\n",
              "        text-align: right;\n",
              "    }\n",
              "</style>\n",
              "<table border=\"1\" class=\"dataframe\">\n",
              "  <thead>\n",
              "    <tr style=\"text-align: right;\">\n",
              "      <th></th>\n",
              "      <th>Temperature</th>\n",
              "      <th>Color</th>\n",
              "      <th>Target</th>\n",
              "      <th>Temp_label_encoded</th>\n",
              "    </tr>\n",
              "  </thead>\n",
              "  <tbody>\n",
              "    <tr>\n",
              "      <th>0</th>\n",
              "      <td>Hot</td>\n",
              "      <td>Red</td>\n",
              "      <td>1</td>\n",
              "      <td>1</td>\n",
              "    </tr>\n",
              "    <tr>\n",
              "      <th>1</th>\n",
              "      <td>Cold</td>\n",
              "      <td>Yellow</td>\n",
              "      <td>1</td>\n",
              "      <td>0</td>\n",
              "    </tr>\n",
              "    <tr>\n",
              "      <th>2</th>\n",
              "      <td>Very hot</td>\n",
              "      <td>Blue</td>\n",
              "      <td>1</td>\n",
              "      <td>2</td>\n",
              "    </tr>\n",
              "    <tr>\n",
              "      <th>3</th>\n",
              "      <td>Warm</td>\n",
              "      <td>Blue</td>\n",
              "      <td>0</td>\n",
              "      <td>3</td>\n",
              "    </tr>\n",
              "    <tr>\n",
              "      <th>4</th>\n",
              "      <td>Hot</td>\n",
              "      <td>Red</td>\n",
              "      <td>1</td>\n",
              "      <td>1</td>\n",
              "    </tr>\n",
              "    <tr>\n",
              "      <th>5</th>\n",
              "      <td>Warm</td>\n",
              "      <td>Yellow</td>\n",
              "      <td>0</td>\n",
              "      <td>3</td>\n",
              "    </tr>\n",
              "    <tr>\n",
              "      <th>6</th>\n",
              "      <td>Warm</td>\n",
              "      <td>red</td>\n",
              "      <td>1</td>\n",
              "      <td>3</td>\n",
              "    </tr>\n",
              "    <tr>\n",
              "      <th>7</th>\n",
              "      <td>Hot</td>\n",
              "      <td>Yellow</td>\n",
              "      <td>0</td>\n",
              "      <td>1</td>\n",
              "    </tr>\n",
              "    <tr>\n",
              "      <th>8</th>\n",
              "      <td>Hot</td>\n",
              "      <td>Yellow</td>\n",
              "      <td>1</td>\n",
              "      <td>1</td>\n",
              "    </tr>\n",
              "    <tr>\n",
              "      <th>9</th>\n",
              "      <td>Cold</td>\n",
              "      <td>Yellow</td>\n",
              "      <td>1</td>\n",
              "      <td>0</td>\n",
              "    </tr>\n",
              "  </tbody>\n",
              "</table>\n",
              "</div>"
            ],
            "text/plain": [
              "  Temperature   Color  Target  Temp_label_encoded\n",
              "0         Hot     Red       1                   1\n",
              "1        Cold  Yellow       1                   0\n",
              "2    Very hot    Blue       1                   2\n",
              "3        Warm    Blue       0                   3\n",
              "4         Hot     Red       1                   1\n",
              "5        Warm  Yellow       0                   3\n",
              "6        Warm     red       1                   3\n",
              "7         Hot  Yellow       0                   1\n",
              "8         Hot  Yellow       1                   1\n",
              "9        Cold  Yellow       1                   0"
            ]
          },
          "metadata": {
            "tags": []
          },
          "execution_count": 43
        }
      ]
    },
    {
      "cell_type": "markdown",
      "metadata": {
        "id": "kT34uSLVPjN2"
      },
      "source": [
        "### Ordinal Encoder : User defined"
      ]
    },
    {
      "cell_type": "code",
      "metadata": {
        "id": "Q61TUG0VPaCP"
      },
      "source": [
        "df_oe=df.copy()"
      ],
      "execution_count": null,
      "outputs": []
    },
    {
      "cell_type": "code",
      "metadata": {
        "id": "0rY26ensPaN6",
        "colab": {
          "base_uri": "https://localhost:8080/",
          "height": 359
        },
        "outputId": "78f2a26e-f53b-43de-927d-59072178502a"
      },
      "source": [
        "Temp_code={'Cold' : 1, 'Warm' : 2, 'Hot':3,'Very hot':4}\n",
        "df_oe['Temp_Ord_coded'] = df_oe.Temperature.map(Temp_code)\n",
        "df_oe"
      ],
      "execution_count": null,
      "outputs": [
        {
          "output_type": "execute_result",
          "data": {
            "text/html": [
              "<div>\n",
              "<style scoped>\n",
              "    .dataframe tbody tr th:only-of-type {\n",
              "        vertical-align: middle;\n",
              "    }\n",
              "\n",
              "    .dataframe tbody tr th {\n",
              "        vertical-align: top;\n",
              "    }\n",
              "\n",
              "    .dataframe thead th {\n",
              "        text-align: right;\n",
              "    }\n",
              "</style>\n",
              "<table border=\"1\" class=\"dataframe\">\n",
              "  <thead>\n",
              "    <tr style=\"text-align: right;\">\n",
              "      <th></th>\n",
              "      <th>Temperature</th>\n",
              "      <th>Color</th>\n",
              "      <th>Target</th>\n",
              "      <th>Temp_Ord_coded</th>\n",
              "    </tr>\n",
              "  </thead>\n",
              "  <tbody>\n",
              "    <tr>\n",
              "      <th>0</th>\n",
              "      <td>Hot</td>\n",
              "      <td>Red</td>\n",
              "      <td>1</td>\n",
              "      <td>3</td>\n",
              "    </tr>\n",
              "    <tr>\n",
              "      <th>1</th>\n",
              "      <td>Cold</td>\n",
              "      <td>Yellow</td>\n",
              "      <td>1</td>\n",
              "      <td>1</td>\n",
              "    </tr>\n",
              "    <tr>\n",
              "      <th>2</th>\n",
              "      <td>Very hot</td>\n",
              "      <td>Blue</td>\n",
              "      <td>1</td>\n",
              "      <td>4</td>\n",
              "    </tr>\n",
              "    <tr>\n",
              "      <th>3</th>\n",
              "      <td>Warm</td>\n",
              "      <td>Blue</td>\n",
              "      <td>0</td>\n",
              "      <td>2</td>\n",
              "    </tr>\n",
              "    <tr>\n",
              "      <th>4</th>\n",
              "      <td>Hot</td>\n",
              "      <td>Red</td>\n",
              "      <td>1</td>\n",
              "      <td>3</td>\n",
              "    </tr>\n",
              "    <tr>\n",
              "      <th>5</th>\n",
              "      <td>Warm</td>\n",
              "      <td>Yellow</td>\n",
              "      <td>0</td>\n",
              "      <td>2</td>\n",
              "    </tr>\n",
              "    <tr>\n",
              "      <th>6</th>\n",
              "      <td>Warm</td>\n",
              "      <td>red</td>\n",
              "      <td>1</td>\n",
              "      <td>2</td>\n",
              "    </tr>\n",
              "    <tr>\n",
              "      <th>7</th>\n",
              "      <td>Hot</td>\n",
              "      <td>Yellow</td>\n",
              "      <td>0</td>\n",
              "      <td>3</td>\n",
              "    </tr>\n",
              "    <tr>\n",
              "      <th>8</th>\n",
              "      <td>Hot</td>\n",
              "      <td>Yellow</td>\n",
              "      <td>1</td>\n",
              "      <td>3</td>\n",
              "    </tr>\n",
              "    <tr>\n",
              "      <th>9</th>\n",
              "      <td>Cold</td>\n",
              "      <td>Yellow</td>\n",
              "      <td>1</td>\n",
              "      <td>1</td>\n",
              "    </tr>\n",
              "  </tbody>\n",
              "</table>\n",
              "</div>"
            ],
            "text/plain": [
              "  Temperature   Color  Target  Temp_Ord_coded\n",
              "0         Hot     Red       1               3\n",
              "1        Cold  Yellow       1               1\n",
              "2    Very hot    Blue       1               4\n",
              "3        Warm    Blue       0               2\n",
              "4         Hot     Red       1               3\n",
              "5        Warm  Yellow       0               2\n",
              "6        Warm     red       1               2\n",
              "7         Hot  Yellow       0               3\n",
              "8         Hot  Yellow       1               3\n",
              "9        Cold  Yellow       1               1"
            ]
          },
          "metadata": {
            "tags": []
          },
          "execution_count": 45
        }
      ]
    },
    {
      "cell_type": "markdown",
      "metadata": {
        "id": "ifvUNnQhRQQ_"
      },
      "source": [
        "### Helmert Encoder"
      ]
    },
    {
      "cell_type": "code",
      "metadata": {
        "id": "ZbSIqV1CRQRH"
      },
      "source": [
        "df_hle=df.copy()"
      ],
      "execution_count": null,
      "outputs": []
    },
    {
      "cell_type": "code",
      "metadata": {
        "id": "YRC_SdvaWU6u",
        "colab": {
          "base_uri": "https://localhost:8080/",
          "height": 272
        },
        "outputId": "fab68320-fbe9-43a4-becb-29edb0679aef"
      },
      "source": [
        "pip install --upgrade category_encoders"
      ],
      "execution_count": null,
      "outputs": [
        {
          "output_type": "stream",
          "text": [
            "Collecting category_encoders\n",
            "\u001b[?25l  Downloading https://files.pythonhosted.org/packages/44/57/fcef41c248701ee62e8325026b90c432adea35555cbc870aff9cfba23727/category_encoders-2.2.2-py2.py3-none-any.whl (80kB)\n",
            "\u001b[K     |████████████████████████████████| 81kB 2.1MB/s \n",
            "\u001b[?25hRequirement already satisfied, skipping upgrade: statsmodels>=0.9.0 in /usr/local/lib/python3.6/dist-packages (from category_encoders) (0.10.2)\n",
            "Requirement already satisfied, skipping upgrade: numpy>=1.14.0 in /usr/local/lib/python3.6/dist-packages (from category_encoders) (1.18.5)\n",
            "Requirement already satisfied, skipping upgrade: patsy>=0.5.1 in /usr/local/lib/python3.6/dist-packages (from category_encoders) (0.5.1)\n",
            "Requirement already satisfied, skipping upgrade: scipy>=1.0.0 in /usr/local/lib/python3.6/dist-packages (from category_encoders) (1.4.1)\n",
            "Requirement already satisfied, skipping upgrade: pandas>=0.21.1 in /usr/local/lib/python3.6/dist-packages (from category_encoders) (1.1.2)\n",
            "Requirement already satisfied, skipping upgrade: scikit-learn>=0.20.0 in /usr/local/lib/python3.6/dist-packages (from category_encoders) (0.22.2.post1)\n",
            "Requirement already satisfied, skipping upgrade: six in /usr/local/lib/python3.6/dist-packages (from patsy>=0.5.1->category_encoders) (1.15.0)\n",
            "Requirement already satisfied, skipping upgrade: pytz>=2017.2 in /usr/local/lib/python3.6/dist-packages (from pandas>=0.21.1->category_encoders) (2018.9)\n",
            "Requirement already satisfied, skipping upgrade: python-dateutil>=2.7.3 in /usr/local/lib/python3.6/dist-packages (from pandas>=0.21.1->category_encoders) (2.8.1)\n",
            "Requirement already satisfied, skipping upgrade: joblib>=0.11 in /usr/local/lib/python3.6/dist-packages (from scikit-learn>=0.20.0->category_encoders) (0.16.0)\n",
            "Installing collected packages: category-encoders\n",
            "Successfully installed category-encoders-2.2.2\n"
          ],
          "name": "stdout"
        }
      ]
    },
    {
      "cell_type": "code",
      "metadata": {
        "id": "I61j6XnqPaUQ",
        "colab": {
          "base_uri": "https://localhost:8080/",
          "height": 393
        },
        "outputId": "7c3de4d0-3445-4167-b3e7-98471db0ff96"
      },
      "source": [
        "import category_encoders as ce\n",
        "encoder = ce.HelmertEncoder(cols=['Temperature'],drop_invariant=True)\n",
        "df_hleh=encoder.fit_transform(df_hle['Temperature'])\n",
        "df_hle = pd.concat([df_hle,df_hleh], axis=1)\n",
        "df_hle"
      ],
      "execution_count": null,
      "outputs": [
        {
          "output_type": "stream",
          "text": [
            "/usr/local/lib/python3.6/dist-packages/category_encoders/utils.py:21: FutureWarning: is_categorical is deprecated and will be removed in a future version.  Use is_categorical_dtype instead\n",
            "  elif pd.api.types.is_categorical(cols):\n"
          ],
          "name": "stderr"
        },
        {
          "output_type": "execute_result",
          "data": {
            "text/html": [
              "<div>\n",
              "<style scoped>\n",
              "    .dataframe tbody tr th:only-of-type {\n",
              "        vertical-align: middle;\n",
              "    }\n",
              "\n",
              "    .dataframe tbody tr th {\n",
              "        vertical-align: top;\n",
              "    }\n",
              "\n",
              "    .dataframe thead th {\n",
              "        text-align: right;\n",
              "    }\n",
              "</style>\n",
              "<table border=\"1\" class=\"dataframe\">\n",
              "  <thead>\n",
              "    <tr style=\"text-align: right;\">\n",
              "      <th></th>\n",
              "      <th>Temperature</th>\n",
              "      <th>Color</th>\n",
              "      <th>Target</th>\n",
              "      <th>Temperature_0</th>\n",
              "      <th>Temperature_1</th>\n",
              "      <th>Temperature_2</th>\n",
              "    </tr>\n",
              "  </thead>\n",
              "  <tbody>\n",
              "    <tr>\n",
              "      <th>0</th>\n",
              "      <td>Hot</td>\n",
              "      <td>Red</td>\n",
              "      <td>1</td>\n",
              "      <td>-1.0</td>\n",
              "      <td>-1.0</td>\n",
              "      <td>-1.0</td>\n",
              "    </tr>\n",
              "    <tr>\n",
              "      <th>1</th>\n",
              "      <td>Cold</td>\n",
              "      <td>Yellow</td>\n",
              "      <td>1</td>\n",
              "      <td>1.0</td>\n",
              "      <td>-1.0</td>\n",
              "      <td>-1.0</td>\n",
              "    </tr>\n",
              "    <tr>\n",
              "      <th>2</th>\n",
              "      <td>Very hot</td>\n",
              "      <td>Blue</td>\n",
              "      <td>1</td>\n",
              "      <td>0.0</td>\n",
              "      <td>2.0</td>\n",
              "      <td>-1.0</td>\n",
              "    </tr>\n",
              "    <tr>\n",
              "      <th>3</th>\n",
              "      <td>Warm</td>\n",
              "      <td>Blue</td>\n",
              "      <td>0</td>\n",
              "      <td>0.0</td>\n",
              "      <td>0.0</td>\n",
              "      <td>3.0</td>\n",
              "    </tr>\n",
              "    <tr>\n",
              "      <th>4</th>\n",
              "      <td>Hot</td>\n",
              "      <td>Red</td>\n",
              "      <td>1</td>\n",
              "      <td>-1.0</td>\n",
              "      <td>-1.0</td>\n",
              "      <td>-1.0</td>\n",
              "    </tr>\n",
              "    <tr>\n",
              "      <th>5</th>\n",
              "      <td>Warm</td>\n",
              "      <td>Yellow</td>\n",
              "      <td>0</td>\n",
              "      <td>0.0</td>\n",
              "      <td>0.0</td>\n",
              "      <td>3.0</td>\n",
              "    </tr>\n",
              "    <tr>\n",
              "      <th>6</th>\n",
              "      <td>Warm</td>\n",
              "      <td>red</td>\n",
              "      <td>1</td>\n",
              "      <td>0.0</td>\n",
              "      <td>0.0</td>\n",
              "      <td>3.0</td>\n",
              "    </tr>\n",
              "    <tr>\n",
              "      <th>7</th>\n",
              "      <td>Hot</td>\n",
              "      <td>Yellow</td>\n",
              "      <td>0</td>\n",
              "      <td>-1.0</td>\n",
              "      <td>-1.0</td>\n",
              "      <td>-1.0</td>\n",
              "    </tr>\n",
              "    <tr>\n",
              "      <th>8</th>\n",
              "      <td>Hot</td>\n",
              "      <td>Yellow</td>\n",
              "      <td>1</td>\n",
              "      <td>-1.0</td>\n",
              "      <td>-1.0</td>\n",
              "      <td>-1.0</td>\n",
              "    </tr>\n",
              "    <tr>\n",
              "      <th>9</th>\n",
              "      <td>Cold</td>\n",
              "      <td>Yellow</td>\n",
              "      <td>1</td>\n",
              "      <td>1.0</td>\n",
              "      <td>-1.0</td>\n",
              "      <td>-1.0</td>\n",
              "    </tr>\n",
              "  </tbody>\n",
              "</table>\n",
              "</div>"
            ],
            "text/plain": [
              "  Temperature   Color  Target  Temperature_0  Temperature_1  Temperature_2\n",
              "0         Hot     Red       1           -1.0           -1.0           -1.0\n",
              "1        Cold  Yellow       1            1.0           -1.0           -1.0\n",
              "2    Very hot    Blue       1            0.0            2.0           -1.0\n",
              "3        Warm    Blue       0            0.0            0.0            3.0\n",
              "4         Hot     Red       1           -1.0           -1.0           -1.0\n",
              "5        Warm  Yellow       0            0.0            0.0            3.0\n",
              "6        Warm     red       1            0.0            0.0            3.0\n",
              "7         Hot  Yellow       0           -1.0           -1.0           -1.0\n",
              "8         Hot  Yellow       1           -1.0           -1.0           -1.0\n",
              "9        Cold  Yellow       1            1.0           -1.0           -1.0"
            ]
          },
          "metadata": {
            "tags": []
          },
          "execution_count": 61
        }
      ]
    },
    {
      "cell_type": "markdown",
      "metadata": {
        "id": "ffnkpLjTXkfn"
      },
      "source": [
        "### Binary Encoder"
      ]
    },
    {
      "cell_type": "code",
      "metadata": {
        "id": "XLkAZWCXXluq"
      },
      "source": [
        "df_be=df.copy()"
      ],
      "execution_count": null,
      "outputs": []
    },
    {
      "cell_type": "code",
      "metadata": {
        "id": "fasPfezyXl1A",
        "colab": {
          "base_uri": "https://localhost:8080/",
          "height": 393
        },
        "outputId": "b1df1458-fc7e-40a8-90eb-ed1ec54949f3"
      },
      "source": [
        "import category_encoders as ce\n",
        "encoder = ce.BinaryEncoder(cols=['Temperature'])\n",
        "df_bin=encoder.fit_transform(df_be['Temperature'])\n",
        "df_be = pd.concat([df_be,df_bin], axis=1)\n",
        "df_be"
      ],
      "execution_count": null,
      "outputs": [
        {
          "output_type": "stream",
          "text": [
            "/usr/local/lib/python3.6/dist-packages/category_encoders/utils.py:21: FutureWarning: is_categorical is deprecated and will be removed in a future version.  Use is_categorical_dtype instead\n",
            "  elif pd.api.types.is_categorical(cols):\n"
          ],
          "name": "stderr"
        },
        {
          "output_type": "execute_result",
          "data": {
            "text/html": [
              "<div>\n",
              "<style scoped>\n",
              "    .dataframe tbody tr th:only-of-type {\n",
              "        vertical-align: middle;\n",
              "    }\n",
              "\n",
              "    .dataframe tbody tr th {\n",
              "        vertical-align: top;\n",
              "    }\n",
              "\n",
              "    .dataframe thead th {\n",
              "        text-align: right;\n",
              "    }\n",
              "</style>\n",
              "<table border=\"1\" class=\"dataframe\">\n",
              "  <thead>\n",
              "    <tr style=\"text-align: right;\">\n",
              "      <th></th>\n",
              "      <th>Temperature</th>\n",
              "      <th>Color</th>\n",
              "      <th>Target</th>\n",
              "      <th>Temperature_0</th>\n",
              "      <th>Temperature_1</th>\n",
              "      <th>Temperature_2</th>\n",
              "    </tr>\n",
              "  </thead>\n",
              "  <tbody>\n",
              "    <tr>\n",
              "      <th>0</th>\n",
              "      <td>Hot</td>\n",
              "      <td>Red</td>\n",
              "      <td>1</td>\n",
              "      <td>0</td>\n",
              "      <td>0</td>\n",
              "      <td>1</td>\n",
              "    </tr>\n",
              "    <tr>\n",
              "      <th>1</th>\n",
              "      <td>Cold</td>\n",
              "      <td>Yellow</td>\n",
              "      <td>1</td>\n",
              "      <td>0</td>\n",
              "      <td>1</td>\n",
              "      <td>0</td>\n",
              "    </tr>\n",
              "    <tr>\n",
              "      <th>2</th>\n",
              "      <td>Very hot</td>\n",
              "      <td>Blue</td>\n",
              "      <td>1</td>\n",
              "      <td>0</td>\n",
              "      <td>1</td>\n",
              "      <td>1</td>\n",
              "    </tr>\n",
              "    <tr>\n",
              "      <th>3</th>\n",
              "      <td>Warm</td>\n",
              "      <td>Blue</td>\n",
              "      <td>0</td>\n",
              "      <td>1</td>\n",
              "      <td>0</td>\n",
              "      <td>0</td>\n",
              "    </tr>\n",
              "    <tr>\n",
              "      <th>4</th>\n",
              "      <td>Hot</td>\n",
              "      <td>Red</td>\n",
              "      <td>1</td>\n",
              "      <td>0</td>\n",
              "      <td>0</td>\n",
              "      <td>1</td>\n",
              "    </tr>\n",
              "    <tr>\n",
              "      <th>5</th>\n",
              "      <td>Warm</td>\n",
              "      <td>Yellow</td>\n",
              "      <td>0</td>\n",
              "      <td>1</td>\n",
              "      <td>0</td>\n",
              "      <td>0</td>\n",
              "    </tr>\n",
              "    <tr>\n",
              "      <th>6</th>\n",
              "      <td>Warm</td>\n",
              "      <td>red</td>\n",
              "      <td>1</td>\n",
              "      <td>1</td>\n",
              "      <td>0</td>\n",
              "      <td>0</td>\n",
              "    </tr>\n",
              "    <tr>\n",
              "      <th>7</th>\n",
              "      <td>Hot</td>\n",
              "      <td>Yellow</td>\n",
              "      <td>0</td>\n",
              "      <td>0</td>\n",
              "      <td>0</td>\n",
              "      <td>1</td>\n",
              "    </tr>\n",
              "    <tr>\n",
              "      <th>8</th>\n",
              "      <td>Hot</td>\n",
              "      <td>Yellow</td>\n",
              "      <td>1</td>\n",
              "      <td>0</td>\n",
              "      <td>0</td>\n",
              "      <td>1</td>\n",
              "    </tr>\n",
              "    <tr>\n",
              "      <th>9</th>\n",
              "      <td>Cold</td>\n",
              "      <td>Yellow</td>\n",
              "      <td>1</td>\n",
              "      <td>0</td>\n",
              "      <td>1</td>\n",
              "      <td>0</td>\n",
              "    </tr>\n",
              "  </tbody>\n",
              "</table>\n",
              "</div>"
            ],
            "text/plain": [
              "  Temperature   Color  Target  Temperature_0  Temperature_1  Temperature_2\n",
              "0         Hot     Red       1              0              0              1\n",
              "1        Cold  Yellow       1              0              1              0\n",
              "2    Very hot    Blue       1              0              1              1\n",
              "3        Warm    Blue       0              1              0              0\n",
              "4         Hot     Red       1              0              0              1\n",
              "5        Warm  Yellow       0              1              0              0\n",
              "6        Warm     red       1              1              0              0\n",
              "7         Hot  Yellow       0              0              0              1\n",
              "8         Hot  Yellow       1              0              0              1\n",
              "9        Cold  Yellow       1              0              1              0"
            ]
          },
          "metadata": {
            "tags": []
          },
          "execution_count": 65
        }
      ]
    },
    {
      "cell_type": "markdown",
      "metadata": {
        "id": "rQ3xcCIVcXNH"
      },
      "source": [
        "### Frequency Encoder"
      ]
    },
    {
      "cell_type": "code",
      "metadata": {
        "id": "R1Zpthv0cXNO"
      },
      "source": [
        "df_fe=df.copy()"
      ],
      "execution_count": null,
      "outputs": []
    },
    {
      "cell_type": "code",
      "metadata": {
        "id": "XzjxED37cXNY",
        "colab": {
          "base_uri": "https://localhost:8080/",
          "height": 359
        },
        "outputId": "c95bf586-316d-477d-eb1c-b5e46f3dc929"
      },
      "source": [
        "fe=df_fe.groupby('Temperature').size()/len(df_fe)\n",
        "df_fe.loc[:,'Temp_freq_code'] = df_fe['Temperature'].map(fe)\n",
        "df_fe"
      ],
      "execution_count": null,
      "outputs": [
        {
          "output_type": "execute_result",
          "data": {
            "text/html": [
              "<div>\n",
              "<style scoped>\n",
              "    .dataframe tbody tr th:only-of-type {\n",
              "        vertical-align: middle;\n",
              "    }\n",
              "\n",
              "    .dataframe tbody tr th {\n",
              "        vertical-align: top;\n",
              "    }\n",
              "\n",
              "    .dataframe thead th {\n",
              "        text-align: right;\n",
              "    }\n",
              "</style>\n",
              "<table border=\"1\" class=\"dataframe\">\n",
              "  <thead>\n",
              "    <tr style=\"text-align: right;\">\n",
              "      <th></th>\n",
              "      <th>Temperature</th>\n",
              "      <th>Color</th>\n",
              "      <th>Target</th>\n",
              "      <th>Temp_freq_code</th>\n",
              "    </tr>\n",
              "  </thead>\n",
              "  <tbody>\n",
              "    <tr>\n",
              "      <th>0</th>\n",
              "      <td>Hot</td>\n",
              "      <td>Red</td>\n",
              "      <td>1</td>\n",
              "      <td>0.4</td>\n",
              "    </tr>\n",
              "    <tr>\n",
              "      <th>1</th>\n",
              "      <td>Cold</td>\n",
              "      <td>Yellow</td>\n",
              "      <td>1</td>\n",
              "      <td>0.2</td>\n",
              "    </tr>\n",
              "    <tr>\n",
              "      <th>2</th>\n",
              "      <td>Very hot</td>\n",
              "      <td>Blue</td>\n",
              "      <td>1</td>\n",
              "      <td>0.1</td>\n",
              "    </tr>\n",
              "    <tr>\n",
              "      <th>3</th>\n",
              "      <td>Warm</td>\n",
              "      <td>Blue</td>\n",
              "      <td>0</td>\n",
              "      <td>0.3</td>\n",
              "    </tr>\n",
              "    <tr>\n",
              "      <th>4</th>\n",
              "      <td>Hot</td>\n",
              "      <td>Red</td>\n",
              "      <td>1</td>\n",
              "      <td>0.4</td>\n",
              "    </tr>\n",
              "    <tr>\n",
              "      <th>5</th>\n",
              "      <td>Warm</td>\n",
              "      <td>Yellow</td>\n",
              "      <td>0</td>\n",
              "      <td>0.3</td>\n",
              "    </tr>\n",
              "    <tr>\n",
              "      <th>6</th>\n",
              "      <td>Warm</td>\n",
              "      <td>red</td>\n",
              "      <td>1</td>\n",
              "      <td>0.3</td>\n",
              "    </tr>\n",
              "    <tr>\n",
              "      <th>7</th>\n",
              "      <td>Hot</td>\n",
              "      <td>Yellow</td>\n",
              "      <td>0</td>\n",
              "      <td>0.4</td>\n",
              "    </tr>\n",
              "    <tr>\n",
              "      <th>8</th>\n",
              "      <td>Hot</td>\n",
              "      <td>Yellow</td>\n",
              "      <td>1</td>\n",
              "      <td>0.4</td>\n",
              "    </tr>\n",
              "    <tr>\n",
              "      <th>9</th>\n",
              "      <td>Cold</td>\n",
              "      <td>Yellow</td>\n",
              "      <td>1</td>\n",
              "      <td>0.2</td>\n",
              "    </tr>\n",
              "  </tbody>\n",
              "</table>\n",
              "</div>"
            ],
            "text/plain": [
              "  Temperature   Color  Target  Temp_freq_code\n",
              "0         Hot     Red       1             0.4\n",
              "1        Cold  Yellow       1             0.2\n",
              "2    Very hot    Blue       1             0.1\n",
              "3        Warm    Blue       0             0.3\n",
              "4         Hot     Red       1             0.4\n",
              "5        Warm  Yellow       0             0.3\n",
              "6        Warm     red       1             0.3\n",
              "7         Hot  Yellow       0             0.4\n",
              "8         Hot  Yellow       1             0.4\n",
              "9        Cold  Yellow       1             0.2"
            ]
          },
          "metadata": {
            "tags": []
          },
          "execution_count": 69
        }
      ]
    },
    {
      "cell_type": "markdown",
      "metadata": {
        "id": "-e3MqCOudCPI"
      },
      "source": [
        "### Target Encoder : Mean Encoding\n",
        "\n",
        "-Mean Encoding or Target Encoding is one viral encoding approach followed by Kagglers. There are many variations of this. Here I will cover the basic version and smoothing version. Mean encoding is similar to label encoding, except here labels are correlated directly with the target. For example, in mean target encoding for each category in the feature label is decided with the mean value of the target variable on a training data. This encoding method brings out the relation between similar categories, but the connections are bounded within the categories and target itself. The advantages of the mean target encoding are that it does not affect the volume of the data and helps in faster learning. Usually, Mean encoding is notorious for over-fitting; thus, a regularization with cross-validation or some other approach is a must on most occasions."
      ]
    },
    {
      "cell_type": "code",
      "metadata": {
        "id": "lPll69pFdCPL"
      },
      "source": [
        "df_me=df.copy()"
      ],
      "execution_count": null,
      "outputs": []
    },
    {
      "cell_type": "code",
      "metadata": {
        "id": "VGm8LPJ5dCPV",
        "colab": {
          "base_uri": "https://localhost:8080/",
          "height": 461
        },
        "outputId": "0768962c-baac-4ca4-c8f2-a00ca54df8bf"
      },
      "source": [
        "me=df_me.groupby('Temperature')['Target'].mean()\n",
        "print(me)\n",
        "df_me.loc[:,'Temp_mean_code'] = df_me['Temperature'].map(me)\n",
        "df_me"
      ],
      "execution_count": null,
      "outputs": [
        {
          "output_type": "stream",
          "text": [
            "Temperature\n",
            "Cold        1.000000\n",
            "Hot         0.750000\n",
            "Very hot    1.000000\n",
            "Warm        0.333333\n",
            "Name: Target, dtype: float64\n"
          ],
          "name": "stdout"
        },
        {
          "output_type": "execute_result",
          "data": {
            "text/html": [
              "<div>\n",
              "<style scoped>\n",
              "    .dataframe tbody tr th:only-of-type {\n",
              "        vertical-align: middle;\n",
              "    }\n",
              "\n",
              "    .dataframe tbody tr th {\n",
              "        vertical-align: top;\n",
              "    }\n",
              "\n",
              "    .dataframe thead th {\n",
              "        text-align: right;\n",
              "    }\n",
              "</style>\n",
              "<table border=\"1\" class=\"dataframe\">\n",
              "  <thead>\n",
              "    <tr style=\"text-align: right;\">\n",
              "      <th></th>\n",
              "      <th>Temperature</th>\n",
              "      <th>Color</th>\n",
              "      <th>Target</th>\n",
              "      <th>Temp_mean_code</th>\n",
              "    </tr>\n",
              "  </thead>\n",
              "  <tbody>\n",
              "    <tr>\n",
              "      <th>0</th>\n",
              "      <td>Hot</td>\n",
              "      <td>Red</td>\n",
              "      <td>1</td>\n",
              "      <td>0.750000</td>\n",
              "    </tr>\n",
              "    <tr>\n",
              "      <th>1</th>\n",
              "      <td>Cold</td>\n",
              "      <td>Yellow</td>\n",
              "      <td>1</td>\n",
              "      <td>1.000000</td>\n",
              "    </tr>\n",
              "    <tr>\n",
              "      <th>2</th>\n",
              "      <td>Very hot</td>\n",
              "      <td>Blue</td>\n",
              "      <td>1</td>\n",
              "      <td>1.000000</td>\n",
              "    </tr>\n",
              "    <tr>\n",
              "      <th>3</th>\n",
              "      <td>Warm</td>\n",
              "      <td>Blue</td>\n",
              "      <td>0</td>\n",
              "      <td>0.333333</td>\n",
              "    </tr>\n",
              "    <tr>\n",
              "      <th>4</th>\n",
              "      <td>Hot</td>\n",
              "      <td>Red</td>\n",
              "      <td>1</td>\n",
              "      <td>0.750000</td>\n",
              "    </tr>\n",
              "    <tr>\n",
              "      <th>5</th>\n",
              "      <td>Warm</td>\n",
              "      <td>Yellow</td>\n",
              "      <td>0</td>\n",
              "      <td>0.333333</td>\n",
              "    </tr>\n",
              "    <tr>\n",
              "      <th>6</th>\n",
              "      <td>Warm</td>\n",
              "      <td>red</td>\n",
              "      <td>1</td>\n",
              "      <td>0.333333</td>\n",
              "    </tr>\n",
              "    <tr>\n",
              "      <th>7</th>\n",
              "      <td>Hot</td>\n",
              "      <td>Yellow</td>\n",
              "      <td>0</td>\n",
              "      <td>0.750000</td>\n",
              "    </tr>\n",
              "    <tr>\n",
              "      <th>8</th>\n",
              "      <td>Hot</td>\n",
              "      <td>Yellow</td>\n",
              "      <td>1</td>\n",
              "      <td>0.750000</td>\n",
              "    </tr>\n",
              "    <tr>\n",
              "      <th>9</th>\n",
              "      <td>Cold</td>\n",
              "      <td>Yellow</td>\n",
              "      <td>1</td>\n",
              "      <td>1.000000</td>\n",
              "    </tr>\n",
              "  </tbody>\n",
              "</table>\n",
              "</div>"
            ],
            "text/plain": [
              "  Temperature   Color  Target  Temp_mean_code\n",
              "0         Hot     Red       1        0.750000\n",
              "1        Cold  Yellow       1        1.000000\n",
              "2    Very hot    Blue       1        1.000000\n",
              "3        Warm    Blue       0        0.333333\n",
              "4         Hot     Red       1        0.750000\n",
              "5        Warm  Yellow       0        0.333333\n",
              "6        Warm     red       1        0.333333\n",
              "7         Hot  Yellow       0        0.750000\n",
              "8         Hot  Yellow       1        0.750000\n",
              "9        Cold  Yellow       1        1.000000"
            ]
          },
          "metadata": {
            "tags": []
          },
          "execution_count": 71
        }
      ]
    },
    {
      "cell_type": "markdown",
      "metadata": {
        "id": "Oz2i8rEYeKj3"
      },
      "source": [
        "-Mean encoding can embody the target in the label, whereas label encoding does not correlate with the target. In the case of a large number of features, mean encoding could prove to be a much simpler alternative. Mean encoding tends to group the classes, whereas the grouping is random in case of label encoding."
      ]
    },
    {
      "cell_type": "markdown",
      "metadata": {
        "id": "VHCsdPS_espz"
      },
      "source": [
        "### Target Encoder : Smooth Encoding"
      ]
    },
    {
      "cell_type": "code",
      "metadata": {
        "id": "wHARrAZresD7"
      },
      "source": [
        "df_se=df.copy()"
      ],
      "execution_count": null,
      "outputs": []
    },
    {
      "cell_type": "code",
      "metadata": {
        "id": "XFmkixzaePd2",
        "colab": {
          "base_uri": "https://localhost:8080/",
          "height": 461
        },
        "outputId": "022cc4fb-d50a-419a-ffef-8c1a201846a3"
      },
      "source": [
        "mean1 = df_se['Target'].mean()\n",
        "agg1 = df_se.groupby('Temperature')['Target'].agg(['count','mean'])\n",
        "counts1 = agg1['count']\n",
        "means1 = agg1['mean']\n",
        "weight = 100\n",
        "smooth = (counts1*means1 + weight *mean1) / (counts1+weight)\n",
        "print(smooth)\n",
        "df_se.loc[:,'Temp_smooth_encoded'] = df_se['Temperature'].map(smooth)\n",
        "df_se"
      ],
      "execution_count": null,
      "outputs": [
        {
          "output_type": "stream",
          "text": [
            "Temperature\n",
            "Cold        0.705882\n",
            "Hot         0.701923\n",
            "Very hot    0.702970\n",
            "Warm        0.689320\n",
            "dtype: float64\n"
          ],
          "name": "stdout"
        },
        {
          "output_type": "execute_result",
          "data": {
            "text/html": [
              "<div>\n",
              "<style scoped>\n",
              "    .dataframe tbody tr th:only-of-type {\n",
              "        vertical-align: middle;\n",
              "    }\n",
              "\n",
              "    .dataframe tbody tr th {\n",
              "        vertical-align: top;\n",
              "    }\n",
              "\n",
              "    .dataframe thead th {\n",
              "        text-align: right;\n",
              "    }\n",
              "</style>\n",
              "<table border=\"1\" class=\"dataframe\">\n",
              "  <thead>\n",
              "    <tr style=\"text-align: right;\">\n",
              "      <th></th>\n",
              "      <th>Temperature</th>\n",
              "      <th>Color</th>\n",
              "      <th>Target</th>\n",
              "      <th>Temp_smooth_encoded</th>\n",
              "    </tr>\n",
              "  </thead>\n",
              "  <tbody>\n",
              "    <tr>\n",
              "      <th>0</th>\n",
              "      <td>Hot</td>\n",
              "      <td>Red</td>\n",
              "      <td>1</td>\n",
              "      <td>0.701923</td>\n",
              "    </tr>\n",
              "    <tr>\n",
              "      <th>1</th>\n",
              "      <td>Cold</td>\n",
              "      <td>Yellow</td>\n",
              "      <td>1</td>\n",
              "      <td>0.705882</td>\n",
              "    </tr>\n",
              "    <tr>\n",
              "      <th>2</th>\n",
              "      <td>Very hot</td>\n",
              "      <td>Blue</td>\n",
              "      <td>1</td>\n",
              "      <td>0.702970</td>\n",
              "    </tr>\n",
              "    <tr>\n",
              "      <th>3</th>\n",
              "      <td>Warm</td>\n",
              "      <td>Blue</td>\n",
              "      <td>0</td>\n",
              "      <td>0.689320</td>\n",
              "    </tr>\n",
              "    <tr>\n",
              "      <th>4</th>\n",
              "      <td>Hot</td>\n",
              "      <td>Red</td>\n",
              "      <td>1</td>\n",
              "      <td>0.701923</td>\n",
              "    </tr>\n",
              "    <tr>\n",
              "      <th>5</th>\n",
              "      <td>Warm</td>\n",
              "      <td>Yellow</td>\n",
              "      <td>0</td>\n",
              "      <td>0.689320</td>\n",
              "    </tr>\n",
              "    <tr>\n",
              "      <th>6</th>\n",
              "      <td>Warm</td>\n",
              "      <td>red</td>\n",
              "      <td>1</td>\n",
              "      <td>0.689320</td>\n",
              "    </tr>\n",
              "    <tr>\n",
              "      <th>7</th>\n",
              "      <td>Hot</td>\n",
              "      <td>Yellow</td>\n",
              "      <td>0</td>\n",
              "      <td>0.701923</td>\n",
              "    </tr>\n",
              "    <tr>\n",
              "      <th>8</th>\n",
              "      <td>Hot</td>\n",
              "      <td>Yellow</td>\n",
              "      <td>1</td>\n",
              "      <td>0.701923</td>\n",
              "    </tr>\n",
              "    <tr>\n",
              "      <th>9</th>\n",
              "      <td>Cold</td>\n",
              "      <td>Yellow</td>\n",
              "      <td>1</td>\n",
              "      <td>0.705882</td>\n",
              "    </tr>\n",
              "  </tbody>\n",
              "</table>\n",
              "</div>"
            ],
            "text/plain": [
              "  Temperature   Color  Target  Temp_smooth_encoded\n",
              "0         Hot     Red       1             0.701923\n",
              "1        Cold  Yellow       1             0.705882\n",
              "2    Very hot    Blue       1             0.702970\n",
              "3        Warm    Blue       0             0.689320\n",
              "4         Hot     Red       1             0.701923\n",
              "5        Warm  Yellow       0             0.689320\n",
              "6        Warm     red       1             0.689320\n",
              "7         Hot  Yellow       0             0.701923\n",
              "8         Hot  Yellow       1             0.701923\n",
              "9        Cold  Yellow       1             0.705882"
            ]
          },
          "metadata": {
            "tags": []
          },
          "execution_count": 77
        }
      ]
    },
    {
      "cell_type": "markdown",
      "metadata": {
        "id": "XFKQ6yvuhxIW"
      },
      "source": [
        "### Target Encoder : Weight of Evidence Encoding\n",
        "\n"
      ]
    },
    {
      "cell_type": "code",
      "metadata": {
        "id": "9rHjwgUdhxIZ"
      },
      "source": [
        "df_we=df.copy()"
      ],
      "execution_count": null,
      "outputs": []
    },
    {
      "cell_type": "code",
      "metadata": {
        "id": "heDhnyscePmK",
        "colab": {
          "base_uri": "https://localhost:8080/",
          "height": 204
        },
        "outputId": "98d90ddc-04c0-4a35-a4ff-a203780bbc65"
      },
      "source": [
        "woe_df=df_we.groupby('Temperature')['Target'].mean()\n",
        "woe_df=pd.DataFrame(woe_df)\n",
        "woe_df=woe_df.rename(columns={'Target':'Good'})\n",
        "woe_df['Bad'] = 1 - woe_df.Good\n",
        "woe_df['Bad'] = np.where(woe_df['Bad']==0,0.00001,woe_df['Bad'])\n",
        "woe_df['WoE'] = np.log(woe_df.Good/woe_df.Bad)\n",
        "woe_df"
      ],
      "execution_count": null,
      "outputs": [
        {
          "output_type": "execute_result",
          "data": {
            "text/html": [
              "<div>\n",
              "<style scoped>\n",
              "    .dataframe tbody tr th:only-of-type {\n",
              "        vertical-align: middle;\n",
              "    }\n",
              "\n",
              "    .dataframe tbody tr th {\n",
              "        vertical-align: top;\n",
              "    }\n",
              "\n",
              "    .dataframe thead th {\n",
              "        text-align: right;\n",
              "    }\n",
              "</style>\n",
              "<table border=\"1\" class=\"dataframe\">\n",
              "  <thead>\n",
              "    <tr style=\"text-align: right;\">\n",
              "      <th></th>\n",
              "      <th>Good</th>\n",
              "      <th>Bad</th>\n",
              "      <th>WoE</th>\n",
              "    </tr>\n",
              "    <tr>\n",
              "      <th>Temperature</th>\n",
              "      <th></th>\n",
              "      <th></th>\n",
              "      <th></th>\n",
              "    </tr>\n",
              "  </thead>\n",
              "  <tbody>\n",
              "    <tr>\n",
              "      <th>Cold</th>\n",
              "      <td>1.000000</td>\n",
              "      <td>0.000010</td>\n",
              "      <td>11.512925</td>\n",
              "    </tr>\n",
              "    <tr>\n",
              "      <th>Hot</th>\n",
              "      <td>0.750000</td>\n",
              "      <td>0.250000</td>\n",
              "      <td>1.098612</td>\n",
              "    </tr>\n",
              "    <tr>\n",
              "      <th>Very hot</th>\n",
              "      <td>1.000000</td>\n",
              "      <td>0.000010</td>\n",
              "      <td>11.512925</td>\n",
              "    </tr>\n",
              "    <tr>\n",
              "      <th>Warm</th>\n",
              "      <td>0.333333</td>\n",
              "      <td>0.666667</td>\n",
              "      <td>-0.693147</td>\n",
              "    </tr>\n",
              "  </tbody>\n",
              "</table>\n",
              "</div>"
            ],
            "text/plain": [
              "                 Good       Bad        WoE\n",
              "Temperature                               \n",
              "Cold         1.000000  0.000010  11.512925\n",
              "Hot          0.750000  0.250000   1.098612\n",
              "Very hot     1.000000  0.000010  11.512925\n",
              "Warm         0.333333  0.666667  -0.693147"
            ]
          },
          "metadata": {
            "tags": []
          },
          "execution_count": 87
        }
      ]
    },
    {
      "cell_type": "code",
      "metadata": {
        "id": "FDvf3uykePpV",
        "colab": {
          "base_uri": "https://localhost:8080/",
          "height": 359
        },
        "outputId": "c01aaa64-b1aa-4533-f716-68e845880448"
      },
      "source": [
        "df_we.loc[:,'WoE_coded'] = df_we['Temperature'].map(woe_df['WoE'])\n",
        "df_we"
      ],
      "execution_count": null,
      "outputs": [
        {
          "output_type": "execute_result",
          "data": {
            "text/html": [
              "<div>\n",
              "<style scoped>\n",
              "    .dataframe tbody tr th:only-of-type {\n",
              "        vertical-align: middle;\n",
              "    }\n",
              "\n",
              "    .dataframe tbody tr th {\n",
              "        vertical-align: top;\n",
              "    }\n",
              "\n",
              "    .dataframe thead th {\n",
              "        text-align: right;\n",
              "    }\n",
              "</style>\n",
              "<table border=\"1\" class=\"dataframe\">\n",
              "  <thead>\n",
              "    <tr style=\"text-align: right;\">\n",
              "      <th></th>\n",
              "      <th>Temperature</th>\n",
              "      <th>Color</th>\n",
              "      <th>Target</th>\n",
              "      <th>WoE_coded</th>\n",
              "    </tr>\n",
              "  </thead>\n",
              "  <tbody>\n",
              "    <tr>\n",
              "      <th>0</th>\n",
              "      <td>Hot</td>\n",
              "      <td>Red</td>\n",
              "      <td>1</td>\n",
              "      <td>1.098612</td>\n",
              "    </tr>\n",
              "    <tr>\n",
              "      <th>1</th>\n",
              "      <td>Cold</td>\n",
              "      <td>Yellow</td>\n",
              "      <td>1</td>\n",
              "      <td>11.512925</td>\n",
              "    </tr>\n",
              "    <tr>\n",
              "      <th>2</th>\n",
              "      <td>Very hot</td>\n",
              "      <td>Blue</td>\n",
              "      <td>1</td>\n",
              "      <td>11.512925</td>\n",
              "    </tr>\n",
              "    <tr>\n",
              "      <th>3</th>\n",
              "      <td>Warm</td>\n",
              "      <td>Blue</td>\n",
              "      <td>0</td>\n",
              "      <td>-0.693147</td>\n",
              "    </tr>\n",
              "    <tr>\n",
              "      <th>4</th>\n",
              "      <td>Hot</td>\n",
              "      <td>Red</td>\n",
              "      <td>1</td>\n",
              "      <td>1.098612</td>\n",
              "    </tr>\n",
              "    <tr>\n",
              "      <th>5</th>\n",
              "      <td>Warm</td>\n",
              "      <td>Yellow</td>\n",
              "      <td>0</td>\n",
              "      <td>-0.693147</td>\n",
              "    </tr>\n",
              "    <tr>\n",
              "      <th>6</th>\n",
              "      <td>Warm</td>\n",
              "      <td>red</td>\n",
              "      <td>1</td>\n",
              "      <td>-0.693147</td>\n",
              "    </tr>\n",
              "    <tr>\n",
              "      <th>7</th>\n",
              "      <td>Hot</td>\n",
              "      <td>Yellow</td>\n",
              "      <td>0</td>\n",
              "      <td>1.098612</td>\n",
              "    </tr>\n",
              "    <tr>\n",
              "      <th>8</th>\n",
              "      <td>Hot</td>\n",
              "      <td>Yellow</td>\n",
              "      <td>1</td>\n",
              "      <td>1.098612</td>\n",
              "    </tr>\n",
              "    <tr>\n",
              "      <th>9</th>\n",
              "      <td>Cold</td>\n",
              "      <td>Yellow</td>\n",
              "      <td>1</td>\n",
              "      <td>11.512925</td>\n",
              "    </tr>\n",
              "  </tbody>\n",
              "</table>\n",
              "</div>"
            ],
            "text/plain": [
              "  Temperature   Color  Target  WoE_coded\n",
              "0         Hot     Red       1   1.098612\n",
              "1        Cold  Yellow       1  11.512925\n",
              "2    Very hot    Blue       1  11.512925\n",
              "3        Warm    Blue       0  -0.693147\n",
              "4         Hot     Red       1   1.098612\n",
              "5        Warm  Yellow       0  -0.693147\n",
              "6        Warm     red       1  -0.693147\n",
              "7         Hot  Yellow       0   1.098612\n",
              "8         Hot  Yellow       1   1.098612\n",
              "9        Cold  Yellow       1  11.512925"
            ]
          },
          "metadata": {
            "tags": []
          },
          "execution_count": 88
        }
      ]
    },
    {
      "cell_type": "markdown",
      "metadata": {
        "id": "loddSDsblEp_"
      },
      "source": [
        "- The WoE transformation has (at least) three advantage:\n",
        "\n",
        "1) It can transform an independent variable so that it establishes a monotonic relationship to the dependent variable. It does more than this — to secure monotonic relationship it would be enough to “recode” it to any ordered measure (for example 1,2,3,4…), but the WoE transformation orders the categories on a “logistic” scale which is natural for Logistic Regression.\n",
        "\n",
        "2) For variables with too many (sparsely populated) discrete values, these can be grouped into categories (densely populated), and the WoE can be used to express information for the whole category\n",
        "\n",
        "3) The (univariate) effect of each category on the dependent variable can be compared across categories and variables because WoE is a standardized value (for example you can compare WoE of married people to WoE of manual workers)\n",
        "\n",
        "\n",
        "- It also has (at least) three drawbacks:\n",
        "\n",
        "1) Loss of information (variation) due to binning to a few categories\n",
        "\n",
        "2) It is a “univariate” measure, so it does not take into account the correlation between independent variables\n",
        "\n",
        "3) It is easy to manipulate (over-fit) the effect of variables according to how categories are created"
      ]
    },
    {
      "cell_type": "markdown",
      "metadata": {
        "id": "FtvuJOPkoV0M"
      },
      "source": [
        "### Target Encoder : Probability Ratio Encoding\n",
        "\n",
        "Probability Ratio Encoding is similar to Weight Of Evidence(WoE), with the only difference is the only ratio of good and bad probability is used. For each label, we calculate the mean of target=1, that is the probability of being 1 ( P(1) ), and also the probability of the target=0 ( P(0) ). And then, we calculate the ratio P(1)/P(0) and replace the labels by that ratio. We need to add a minimal value with P(0) to avoid any divide by zero scenarios where for any particular category, there is no target=0.\n",
        "\n"
      ]
    },
    {
      "cell_type": "code",
      "metadata": {
        "id": "68u5SHzWoV0V"
      },
      "source": [
        "df_pre=df.copy()"
      ],
      "execution_count": null,
      "outputs": []
    },
    {
      "cell_type": "code",
      "metadata": {
        "id": "m7bUr673okRy",
        "colab": {
          "base_uri": "https://localhost:8080/",
          "height": 204
        },
        "outputId": "7c44f2aa-743b-46da-c67f-cea80e0ec8b8"
      },
      "source": [
        "pr_df=df_pre.groupby('Temperature')['Target'].mean()\n",
        "pr_df=pd.DataFrame(pr_df)\n",
        "pr_df=pr_df.rename(columns={'Target':'Good'})\n",
        "pr_df['Bad'] = 1 - pr_df.Good\n",
        "pr_df['Bad'] = np.where(pr_df['Bad']==0,0.0001,pr_df['Bad'])\n",
        "pr_df['PR'] = pr_df.Good/pr_df.Bad\n",
        "pr_df"
      ],
      "execution_count": null,
      "outputs": [
        {
          "output_type": "execute_result",
          "data": {
            "text/html": [
              "<div>\n",
              "<style scoped>\n",
              "    .dataframe tbody tr th:only-of-type {\n",
              "        vertical-align: middle;\n",
              "    }\n",
              "\n",
              "    .dataframe tbody tr th {\n",
              "        vertical-align: top;\n",
              "    }\n",
              "\n",
              "    .dataframe thead th {\n",
              "        text-align: right;\n",
              "    }\n",
              "</style>\n",
              "<table border=\"1\" class=\"dataframe\">\n",
              "  <thead>\n",
              "    <tr style=\"text-align: right;\">\n",
              "      <th></th>\n",
              "      <th>Good</th>\n",
              "      <th>Bad</th>\n",
              "      <th>PR</th>\n",
              "    </tr>\n",
              "    <tr>\n",
              "      <th>Temperature</th>\n",
              "      <th></th>\n",
              "      <th></th>\n",
              "      <th></th>\n",
              "    </tr>\n",
              "  </thead>\n",
              "  <tbody>\n",
              "    <tr>\n",
              "      <th>Cold</th>\n",
              "      <td>1.000000</td>\n",
              "      <td>0.000100</td>\n",
              "      <td>10000.0</td>\n",
              "    </tr>\n",
              "    <tr>\n",
              "      <th>Hot</th>\n",
              "      <td>0.750000</td>\n",
              "      <td>0.250000</td>\n",
              "      <td>3.0</td>\n",
              "    </tr>\n",
              "    <tr>\n",
              "      <th>Very hot</th>\n",
              "      <td>1.000000</td>\n",
              "      <td>0.000100</td>\n",
              "      <td>10000.0</td>\n",
              "    </tr>\n",
              "    <tr>\n",
              "      <th>Warm</th>\n",
              "      <td>0.333333</td>\n",
              "      <td>0.666667</td>\n",
              "      <td>0.5</td>\n",
              "    </tr>\n",
              "  </tbody>\n",
              "</table>\n",
              "</div>"
            ],
            "text/plain": [
              "                 Good       Bad       PR\n",
              "Temperature                             \n",
              "Cold         1.000000  0.000100  10000.0\n",
              "Hot          0.750000  0.250000      3.0\n",
              "Very hot     1.000000  0.000100  10000.0\n",
              "Warm         0.333333  0.666667      0.5"
            ]
          },
          "metadata": {
            "tags": []
          },
          "execution_count": 92
        }
      ]
    },
    {
      "cell_type": "code",
      "metadata": {
        "id": "p3RiciheokSE",
        "colab": {
          "base_uri": "https://localhost:8080/",
          "height": 359
        },
        "outputId": "c72a94b6-64b6-4a59-8154-1e8cf2c78bf4"
      },
      "source": [
        "df_pre.loc[:,'PR_coded'] = df_pre['Temperature'].map(pr_df['PR'])\n",
        "df_pre"
      ],
      "execution_count": null,
      "outputs": [
        {
          "output_type": "execute_result",
          "data": {
            "text/html": [
              "<div>\n",
              "<style scoped>\n",
              "    .dataframe tbody tr th:only-of-type {\n",
              "        vertical-align: middle;\n",
              "    }\n",
              "\n",
              "    .dataframe tbody tr th {\n",
              "        vertical-align: top;\n",
              "    }\n",
              "\n",
              "    .dataframe thead th {\n",
              "        text-align: right;\n",
              "    }\n",
              "</style>\n",
              "<table border=\"1\" class=\"dataframe\">\n",
              "  <thead>\n",
              "    <tr style=\"text-align: right;\">\n",
              "      <th></th>\n",
              "      <th>Temperature</th>\n",
              "      <th>Color</th>\n",
              "      <th>Target</th>\n",
              "      <th>PR_coded</th>\n",
              "    </tr>\n",
              "  </thead>\n",
              "  <tbody>\n",
              "    <tr>\n",
              "      <th>0</th>\n",
              "      <td>Hot</td>\n",
              "      <td>Red</td>\n",
              "      <td>1</td>\n",
              "      <td>3.0</td>\n",
              "    </tr>\n",
              "    <tr>\n",
              "      <th>1</th>\n",
              "      <td>Cold</td>\n",
              "      <td>Yellow</td>\n",
              "      <td>1</td>\n",
              "      <td>10000.0</td>\n",
              "    </tr>\n",
              "    <tr>\n",
              "      <th>2</th>\n",
              "      <td>Very hot</td>\n",
              "      <td>Blue</td>\n",
              "      <td>1</td>\n",
              "      <td>10000.0</td>\n",
              "    </tr>\n",
              "    <tr>\n",
              "      <th>3</th>\n",
              "      <td>Warm</td>\n",
              "      <td>Blue</td>\n",
              "      <td>0</td>\n",
              "      <td>0.5</td>\n",
              "    </tr>\n",
              "    <tr>\n",
              "      <th>4</th>\n",
              "      <td>Hot</td>\n",
              "      <td>Red</td>\n",
              "      <td>1</td>\n",
              "      <td>3.0</td>\n",
              "    </tr>\n",
              "    <tr>\n",
              "      <th>5</th>\n",
              "      <td>Warm</td>\n",
              "      <td>Yellow</td>\n",
              "      <td>0</td>\n",
              "      <td>0.5</td>\n",
              "    </tr>\n",
              "    <tr>\n",
              "      <th>6</th>\n",
              "      <td>Warm</td>\n",
              "      <td>red</td>\n",
              "      <td>1</td>\n",
              "      <td>0.5</td>\n",
              "    </tr>\n",
              "    <tr>\n",
              "      <th>7</th>\n",
              "      <td>Hot</td>\n",
              "      <td>Yellow</td>\n",
              "      <td>0</td>\n",
              "      <td>3.0</td>\n",
              "    </tr>\n",
              "    <tr>\n",
              "      <th>8</th>\n",
              "      <td>Hot</td>\n",
              "      <td>Yellow</td>\n",
              "      <td>1</td>\n",
              "      <td>3.0</td>\n",
              "    </tr>\n",
              "    <tr>\n",
              "      <th>9</th>\n",
              "      <td>Cold</td>\n",
              "      <td>Yellow</td>\n",
              "      <td>1</td>\n",
              "      <td>10000.0</td>\n",
              "    </tr>\n",
              "  </tbody>\n",
              "</table>\n",
              "</div>"
            ],
            "text/plain": [
              "  Temperature   Color  Target  PR_coded\n",
              "0         Hot     Red       1       3.0\n",
              "1        Cold  Yellow       1   10000.0\n",
              "2    Very hot    Blue       1   10000.0\n",
              "3        Warm    Blue       0       0.5\n",
              "4         Hot     Red       1       3.0\n",
              "5        Warm  Yellow       0       0.5\n",
              "6        Warm     red       1       0.5\n",
              "7         Hot  Yellow       0       3.0\n",
              "8         Hot  Yellow       1       3.0\n",
              "9        Cold  Yellow       1   10000.0"
            ]
          },
          "metadata": {
            "tags": []
          },
          "execution_count": 93
        }
      ]
    },
    {
      "cell_type": "code",
      "metadata": {
        "id": "NsuCMVmzpYfy"
      },
      "source": [
        ""
      ],
      "execution_count": null,
      "outputs": []
    },
    {
      "cell_type": "code",
      "metadata": {
        "id": "JNHqca3jpYoR"
      },
      "source": [
        ""
      ],
      "execution_count": null,
      "outputs": []
    },
    {
      "cell_type": "code",
      "metadata": {
        "id": "psUL0Kn_pYrr"
      },
      "source": [
        ""
      ],
      "execution_count": null,
      "outputs": []
    },
    {
      "cell_type": "code",
      "metadata": {
        "id": "APk5LsUFpYxB"
      },
      "source": [
        ""
      ],
      "execution_count": null,
      "outputs": []
    }
  ]
}